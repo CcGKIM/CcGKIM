{
 "cells": [
  {
   "cell_type": "markdown",
   "id": "10c8aa02",
   "metadata": {},
   "source": [
    "### Kakao API 위도, 경도 변환 함수 정의"
   ]
  },
  {
   "cell_type": "code",
   "execution_count": 2,
   "id": "9571d6d9",
   "metadata": {},
   "outputs": [
    {
     "name": "stdout",
     "output_type": "stream",
     "text": [
      "✅ vibelikes_collection 컬렉션 연결 또는 생성 완료\n"
     ]
    }
   ],
   "source": [
    "from chromadb import PersistentClient\n",
    "\n",
    "# Chroma 클라이언트 초기화\n",
    "chroma_client = PersistentClient(path=\"/Users/kimss/Documents/place_v3_new/marong-place/v2/merged_chroma_db\")\n",
    "\n",
    "# get_or_create_collection은 존재하지 않으면 새로 만들고, 있으면 가져옴\n",
    "vibelikes_collection = chroma_client.get_or_create_collection(name=\"vibelikes_collection\")\n",
    "\n",
    "print(\"✅ vibelikes_collection 컬렉션 연결 또는 생성 완료\")"
   ]
  },
  {
   "cell_type": "code",
   "execution_count": 3,
   "id": "cf9a4d34",
   "metadata": {},
   "outputs": [
    {
     "name": "stdout",
     "output_type": "stream",
     "text": [
      "✅ menulikes_collection 컬렉션 연결 또는 생성 완료\n"
     ]
    }
   ],
   "source": [
    "from chromadb import PersistentClient\n",
    "\n",
    "# Chroma 클라이언트 초기화\n",
    "chroma_client = PersistentClient(path=\"/Users/kimss/Documents/place_v3_new/marong-place/v2/merged_chroma_db\")\n",
    "\n",
    "# get_or_create_collection은 존재하지 않으면 새로 만들고, 있으면 가져옴\n",
    "menulikes_collection = chroma_client.get_or_create_collection(name=\"menulikes_collection\")\n",
    "\n",
    "print(\"✅ menulikes_collection 컬렉션 연결 또는 생성 완료\")"
   ]
  },
  {
   "cell_type": "code",
   "execution_count": null,
   "id": "56151fcb",
   "metadata": {},
   "outputs": [],
   "source": []
  }
 ],
 "metadata": {
  "kernelspec": {
   "display_name": "Python 3",
   "language": "python",
   "name": "python3"
  },
  "language_info": {
   "codemirror_mode": {
    "name": "ipython",
    "version": 3
   },
   "file_extension": ".py",
   "mimetype": "text/x-python",
   "name": "python",
   "nbconvert_exporter": "python",
   "pygments_lexer": "ipython3",
   "version": "3.11.11"
  }
 },
 "nbformat": 4,
 "nbformat_minor": 5
}
